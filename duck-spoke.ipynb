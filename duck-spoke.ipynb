{
 "cells": [
  {
   "cell_type": "markdown",
   "id": "ea4c9241-dd2b-4c0e-9b43-65d7e401cb9b",
   "metadata": {},
   "source": [
    "## Imports\n",
    "`osgeo` requires `gdal`"
   ]
  },
  {
   "cell_type": "code",
   "execution_count": 1,
   "id": "bc72cceb",
   "metadata": {},
   "outputs": [],
   "source": [
    "import os, csv\n",
    "#from osgeo import gdal\n",
    "import fiona\n",
    "import pandas as pd\n",
    "import numpy as np\n",
    "import geopandas as gpd\n",
    "import shapely\n",
    "from shapely import wkt\n",
    "import matplotlib.pyplot as plt\n",
    "from SPARQLWrapper import SPARQLWrapper, CSV\n",
    "import folium\n",
    "from folium.plugins import MarkerCluster"
   ]
  },
  {
   "cell_type": "markdown",
   "id": "4da593f5-8545-463f-93a4-a2f8d7d1a41e",
   "metadata": {},
   "source": [
    "## Configuration"
   ]
  },
  {
   "cell_type": "code",
   "execution_count": 2,
   "id": "5fc6d2aa-b111-464b-a923-fe93e48dde78",
   "metadata": {},
   "outputs": [],
   "source": [
    "# Configuring SPARQL Wrapper\n",
    "sparql = SPARQLWrapper(\"https://stko-kwg.geog.ucsb.edu/graphdb/repositories/KWG\")\n",
    "sparql.setReturnFormat(CSV)\n",
    "\n",
    "# Configuring this DUCK\n",
    "output_dir = \"./output\""
   ]
  },
  {
   "cell_type": "markdown",
   "id": "64bcfa08-9d02-4290-a360-bd362d2e45b9",
   "metadata": {
    "tags": []
   },
   "source": [
    "## Library Functions"
   ]
  },
  {
   "cell_type": "code",
   "execution_count": 3,
   "id": "c5f3e744-c451-43ad-90fe-cff07555bae8",
   "metadata": {},
   "outputs": [],
   "source": [
    "def save_query(result, filename, output_dir=output_dir, mode=\"wb\"):\n",
    "    \"\"\"Given a SPARQLWrapper result and a target filename, output the results to `output_dir` according to specified mode. Default output_dir is set in Configuration Cell Default mode is `write binary`.\"\"\"\n",
    "    output_path = os.path.join(output_dir, filename)\n",
    "    with open(output_path, mode) as file:\n",
    "        file.write(result)\n",
    "\n",
    "def query_kwg(query, endpoint=sparql, save_file = False, filename = None):\n",
    "    \"\"\"Given a configured endpoint, accept query and execute it against the endpoint. Endpoint is bydefault set in the configuration cell.\"\"\"\n",
    "    endpoint.setQuery(query)\n",
    "    res = None\n",
    "    try:\n",
    "        res = endpoint.query().convert()\n",
    "    except Exception as e:\n",
    "        print(f\"There was a problem retrieving the fires: {e}\")\n",
    "\n",
    "    if save_file and res != None:\n",
    "        save_query(res, filename)"
   ]
  },
  {
   "cell_type": "markdown",
   "id": "c0fc6098-b884-439c-979c-91ef75664a94",
   "metadata": {},
   "source": [
    "## Query Examples\n",
    "text"
   ]
  },
  {
   "cell_type": "markdown",
   "id": "fe91501f-600b-4bea-90bd-02e1537576a5",
   "metadata": {},
   "source": [
    "### Wildfire Query\n",
    "This query will return all fires and their context in North America."
   ]
  },
  {
   "cell_type": "code",
   "execution_count": 4,
   "id": "7826715d",
   "metadata": {},
   "outputs": [],
   "source": [
    "fire_query = \"\"\"PREFIX rdf: <http://www.w3.org/1999/02/22-rdf-syntax-ns#>\n",
    "PREFIX kwg-ont: <http://stko-kwg.geog.ucsb.edu/lod/ontology/>\n",
    "PREFIX kwgr: <http://stko-kwg.geog.ucsb.edu/lod/resource/>\n",
    "PREFIX time: <http://www.w3.org/2006/time#>\n",
    "PREFIX geo: <http://www.opengis.net/ont/geosparql#>\n",
    "select * where { \n",
    "    ?fire rdf:type kwg-ont:MTBSFire .\n",
    "    ?fire kwg-ont:sfWithin kwgr:Earth.North_America.United_States.USA.5.42_1 .\n",
    "    ?fire kwg-ont:hasTemporalScope ?temporal_scope .\n",
    "    ?fire kwg-ont:hasFireName ?name .\n",
    "    ?fire geo:hasGeometry ?geom .\n",
    "    ?geom geo:asWKT ?wkt .\n",
    "    ?temporal_scope time:inXSDgYear ?year .\t\n",
    "}\"\"\"\n",
    "query_kwg(fire_query, save_file = True, filename = \"fires.csv\")"
   ]
  },
  {
   "cell_type": "markdown",
   "id": "c2c5dd4d-161f-465e-9252-a229aeffca7e",
   "metadata": {},
   "source": [
    "### County Query\n",
    "This query will return all counties. These are represented as AdminRegion Level 3 that are within a state which are in the United States. We return name, geometries, and associated URIs."
   ]
  },
  {
   "cell_type": "code",
   "execution_count": 5,
   "id": "45f0124e",
   "metadata": {},
   "outputs": [],
   "source": [
    "county_query = \"\"\"PREFIX gnis: <http://gnis-ld.org/lod/gnis/ontology/>\n",
    "PREFIX kwg-ont: <http://stko-kwg.geog.ucsb.edu/lod/ontology/>\n",
    "PREFIX kwgr: <http://stko-kwg.geog.ucsb.edu/lod/resource/>\n",
    "\n",
    "PREFIX rdf: <http://www.w3.org/1999/02/22-rdf-syntax-ns#>\n",
    "PREFIX geo: <http://www.opengis.net/ont/geosparql#>\n",
    "select * where { \n",
    "    ?county a kwg-ont:AdministrativeRegion_3 ;\n",
    "    \t\tkwg-ont:hasFIPS ?fips ;\n",
    "           \tgeo:hasGeometry ?geometry ;\n",
    "      \t\tkwg-ont:sfWithin ?state ;\n",
    "           \trdfs:label ?name .\n",
    "    ?state a kwg-ont:AdministrativeRegion_2 ;\n",
    "           kwg-ont:sfWithin kwgr:Earth.North_America.United_States.USA .\n",
    "    ?geometry geo:asWKT ?wkt .\n",
    "}\n",
    "\"\"\"\n",
    "query_kwg(county_query, save_file = True, filename = \"counties.csv\")"
   ]
  },
  {
   "cell_type": "markdown",
   "id": "5dccedc7-aa3b-4c05-8774-e5c4b597408c",
   "metadata": {},
   "source": [
    "### State Query\n",
    "This query will return all States. These are represented as AdminRegion Level 2 that are within the United States. We return name, geometries, and associated URIs."
   ]
  },
  {
   "cell_type": "code",
   "execution_count": 6,
   "id": "04366a75",
   "metadata": {},
   "outputs": [],
   "source": [
    "state_query = \"\"\"PREFIX gnis: <http://gnis-ld.org/lod/gnis/ontology/>\n",
    "PREFIX kwg-ont: <http://stko-kwg.geog.ucsb.edu/lod/ontology/>\n",
    "PREFIX kwgr: <http://stko-kwg.geog.ucsb.edu/lod/resource/>\n",
    "\n",
    "PREFIX rdf: <http://www.w3.org/1999/02/22-rdf-syntax-ns#>\n",
    "PREFIX geo: <http://www.opengis.net/ont/geosparql#>\n",
    "PREFIX rdfs: <http://www.w3.org/2000/01/rdf-schema#>\n",
    "select ?name ?state ?fips ?wkt where { \n",
    "    ?state a kwg-ont:AdministrativeRegion_2 ;\n",
    "           kwg-ont:sfWithin kwgr:Earth.North_America.United_States.USA ;\n",
    "           kwg-ont:hasFIPS ?fips ;\n",
    "           geo:hasGeometry ?geometry ;\n",
    "           rdfs:label ?name .\n",
    "    ?geometry geo:asWKT ?wkt .\n",
    "}\n",
    "\"\"\"\n",
    "query_kwg(state_query, save_file = True, filename = \"states.csv\")"
   ]
  },
  {
   "cell_type": "markdown",
   "id": "244310ce-e53a-4ce7-8473-2f33a35deb2e",
   "metadata": {},
   "source": [
    "### City Query\n",
    "This query is currently not possible for cities within the United States. Certain cities can be found via their eponymous counties, however (e.g., Santa Barbara)."
   ]
  },
  {
   "cell_type": "code",
   "execution_count": 7,
   "id": "b332b527-66d3-40f7-a169-533626139ab4",
   "metadata": {},
   "outputs": [],
   "source": [
    "city_query = \"\"\" NOT POSSIBLE \"\"\"\n",
    "# query_kwg(city_query, save_file = True, filename = \"cities.csv\")"
   ]
  },
  {
   "cell_type": "markdown",
   "id": "d94b7f77-63c6-4a65-9621-93aee7b2b856",
   "metadata": {
    "tags": []
   },
   "source": [
    "### ZIP Code Areas\n",
    "This query will return URIs for all zip codes (which are necessarily within the USA), their label (i.e., their five digit number), URIs to their encapsulating geometry nodes, and the wkt representation of their geometry."
   ]
  },
  {
   "cell_type": "code",
   "execution_count": 9,
   "id": "7e3315c6-1713-403e-9e7b-66ea666329d0",
   "metadata": {},
   "outputs": [],
   "source": [
    "zip_query = \"\"\"PREFIX gnis: <http://gnis-ld.org/lod/gnis/ontology/>\n",
    "PREFIX kwg-ont: <http://stko-kwg.geog.ucsb.edu/lod/ontology/>\n",
    "PREFIX kwgr: <http://stko-kwg.geog.ucsb.edu/lod/resource/>\n",
    "\n",
    "PREFIX rdf: <http://www.w3.org/1999/02/22-rdf-syntax-ns#>\n",
    "PREFIX geo: <http://www.opengis.net/ont/geosparql#>\n",
    "PREFIX rdfs: <http://www.w3.org/2000/01/rdf-schema#>   \n",
    "select * where {\n",
    "?city a kwg-ont:ZipCodeArea ;\n",
    "          rdfs:label ?label ;\n",
    "          geo:hasGeometry ?geometry .\n",
    "    ?geometry geo:asWKT ?wkt .\n",
    "}\n",
    "\"\"\"\n",
    "query_kwg(zip_query, save_file = True, filename = \"zip_codes.csv\")"
   ]
  },
  {
   "cell_type": "markdown",
   "id": "cb59fcd9-8d11-48a5-8d3c-b58506187324",
   "metadata": {},
   "source": [
    "## Visualizations"
   ]
  },
  {
   "cell_type": "code",
   "execution_count": null,
   "id": "f62c21e4-a8c3-4bb6-a9f3-773a0876c91a",
   "metadata": {},
   "outputs": [],
   "source": []
  }
 ],
 "metadata": {
  "kernelspec": {
   "display_name": "Python 3 (ipykernel)",
   "language": "python",
   "name": "python3"
  },
  "language_info": {
   "codemirror_mode": {
    "name": "ipython",
    "version": 3
   },
   "file_extension": ".py",
   "mimetype": "text/x-python",
   "name": "python",
   "nbconvert_exporter": "python",
   "pygments_lexer": "ipython3",
   "version": "3.10.6"
  }
 },
 "nbformat": 4,
 "nbformat_minor": 5
}
