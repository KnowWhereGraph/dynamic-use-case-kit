{
 "cells": [
  {
   "cell_type": "code",
   "execution_count": 2,
   "id": "bc72cceb",
   "metadata": {},
   "outputs": [],
   "source": [
    "import csv\n",
    "#from osgeo import gdal\n",
    "import fiona\n",
    "import pandas as pd\n",
    "import numpy as np\n",
    "import geopandas as gpd\n",
    "import shapely\n",
    "from shapely import wkt\n",
    "import matplotlib.pyplot as plt\n",
    "from SPARQLWrapper import SPARQLWrapper, CSV\n",
    "import folium\n",
    "from folium.plugins import MarkerCluster"
   ]
  },
  {
   "cell_type": "code",
   "execution_count": 3,
   "id": "7826715d",
   "metadata": {},
   "outputs": [
    {
     "name": "stdout",
     "output_type": "stream",
     "text": [
      "There was a problem retrieving the fires: <urlopen error [SSL: CERTIFICATE_VERIFY_FAILED] certificate verify failed: unable to get local issuer certificate (_ssl.c:997)>\n"
     ]
    }
   ],
   "source": [
    "sparql = SPARQLWrapper(\"https://stko-kwg.geog.ucsb.edu/graphdb/repositories/KWG\")\n",
    "sparql.setReturnFormat(CSV)\n",
    "\n",
    "fire_query = \"\"\"PREFIX rdf: <http://www.w3.org/1999/02/22-rdf-syntax-ns#>\n",
    "PREFIX kwg-ont: <http://stko-kwg.geog.ucsb.edu/lod/ontology/>\n",
    "PREFIX kwgr: <http://stko-kwg.geog.ucsb.edu/lod/resource/>\n",
    "PREFIX time: <http://www.w3.org/2006/time#>\n",
    "PREFIX geo: <http://www.opengis.net/ont/geosparql#>\n",
    "select * where { \n",
    "    ?fire rdf:type kwg-ont:MTBSFire .\n",
    "    ?fire kwg-ont:sfWithin kwgr:Earth.North_America.United_States.USA.5.42_1 .\n",
    "    ?fire kwg-ont:hasTemporalScope ?temporal_scope .\n",
    "    ?fire kwg-ont:hasFireName ?name .\n",
    "    ?fire geo:hasGeometry ?geom .\n",
    "    ?geom geo:asWKT ?wkt .\n",
    "    ?temporal_scope time:inXSDgYear ?year .\t\n",
    "}\"\"\"\n",
    "sparql.setQuery(fire_query)\n",
    "try:\n",
    "    res = sparql.query().convert()\n",
    "    with open('fires.csv','wb') as file:\n",
    "        file.write(res)\n",
    "except Exception as e:\n",
    "    print(f\"There was a problem retrieving the fires: {e}\")\n",
    "    "
   ]
  },
  {
   "cell_type": "code",
   "execution_count": 4,
   "id": "45f0124e",
   "metadata": {},
   "outputs": [
    {
     "name": "stdout",
     "output_type": "stream",
     "text": [
      "There was a problem retrieving the counties: <urlopen error [SSL: CERTIFICATE_VERIFY_FAILED] certificate verify failed: unable to get local issuer certificate (_ssl.c:997)>\n"
     ]
    }
   ],
   "source": [
    "county_query=\"\"\"REFIX gnis: <http://gnis-ld.org/lod/gnis/ontology/>\n",
    "PREFIX kwgr: <http://stko-kwg.geog.ucsb.edu/lod/resource/>\n",
    "PREFIX geo: <http://www.opengis.net/ont/geosparql#>\n",
    "PREFIX kwg-ont: <http://stko-kwg.geog.ucsb.edu/lod/ontology/>\n",
    "\n",
    "PREFIX rdf: <http://www.w3.org/1999/02/22-rdf-syntax-ns#>\n",
    "PREFIX usgs: <http://gnis-ld.org/lod/usgs/ontology/>\n",
    "PREFIX geosparql: <http://www.opengis.net/ont/geosparql#>\n",
    "select * where { \n",
    "    \n",
    "    \n",
    "    \n",
    "    \n",
    "    \n",
    "    \n",
    "    ?county kwg-ont:sfWithin kwgr:Earth.North_America.United_States.USA .\n",
    "    ?geom geo:hasGeometry ?geometry .\n",
    "     ?geometry geosparql:asWKT ?wkt .\n",
    "    \n",
    "        \n",
    "\n",
    "    \n",
    "   \n",
    "\n",
    "  \n",
    " \n",
    "   \n",
    "}\n",
    "\"\"\"\n",
    "sparql.setQuery(county_query)\n",
    "try:\n",
    "    res = sparql.query().convert()\n",
    "    with open('counties.csv','wb') as file:\n",
    "        file.write(res)\n",
    "except Exception as e:\n",
    "    print(f\"There was a problem retrieving the counties: {e}\")"
   ]
  },
  {
   "cell_type": "code",
   "execution_count": null,
   "id": "8a92430f",
   "metadata": {},
   "outputs": [],
   "source": []
  }
 ],
 "metadata": {
  "kernelspec": {
   "display_name": "Python 3 (ipykernel)",
   "language": "python",
   "name": "python3"
  },
  "language_info": {
   "codemirror_mode": {
    "name": "ipython",
    "version": 3
   },
   "file_extension": ".py",
   "mimetype": "text/x-python",
   "name": "python",
   "nbconvert_exporter": "python",
   "pygments_lexer": "ipython3",
   "version": "3.10.8"
  }
 },
 "nbformat": 4,
 "nbformat_minor": 5
}
